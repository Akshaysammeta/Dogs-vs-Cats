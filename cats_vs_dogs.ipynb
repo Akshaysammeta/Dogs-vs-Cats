{
 "cells": [
  {
   "cell_type": "markdown",
   "id": "3ea54f74-3ade-4aee-8a2c-40799916e9c3",
   "metadata": {},
   "source": [
    "## Imports"
   ]
  },
  {
   "cell_type": "code",
   "execution_count": 12,
   "id": "308888e2-50db-4278-afe1-2ea6f43185e0",
   "metadata": {},
   "outputs": [],
   "source": [
    "import numpy as np\n",
    "import os\n",
    "import torch\n",
    "import cv2\n",
    "import matplotlib.pyplot as plt\n",
    "from torch.utils.data import TensorDataset\n",
    "from torch.utils.data import DataLoader\n",
    "import torch.optim as optim\n",
    "import torch.nn as nn\n",
    "import torch.nn.functional as F"
   ]
  },
  {
   "cell_type": "markdown",
   "id": "ee1c7b6d-d081-49d1-afcd-f7af9a3da486",
   "metadata": {},
   "source": [
    "## Pre-Processcing"
   ]
  },
  {
   "cell_type": "code",
   "execution_count": 4,
   "id": "b1d43983-e24a-4199-83da-0b2877ad3191",
   "metadata": {},
   "outputs": [],
   "source": [
    "cat_dir = 'train\\\\cats'\n",
    "dog_dir = 'train\\\\dogs'\n",
    "\n",
    "cat_filenames = os.listdir(cat_dir)\n",
    "dog_filenames = os.listdir(dog_dir)\n",
    "\n",
    "train = []\n",
    "labels = [0]*10000 + [1]*10000"
   ]
  },
  {
   "cell_type": "code",
   "execution_count": 5,
   "id": "9f97f11d-4f18-4291-8782-b538671b1ff7",
   "metadata": {},
   "outputs": [
    {
     "name": "stdout",
     "output_type": "stream",
     "text": [
      "0\n",
      "0\n"
     ]
    }
   ],
   "source": [
    "\n",
    "for i,path in enumerate(cat_filenames):\n",
    "    if i%10000 == 0:\n",
    "        print(i//10000)\n",
    "    im = cv2.imread(os.path.join(cat_dir,path))\n",
    "    im = cv2.resize(im ,(128,128))\n",
    "    train.append(im)\n",
    "\n",
    "for i,path in enumerate(dog_filenames):\n",
    "    if i%10000 == 0:\n",
    "        print(i//10000)\n",
    "    im = cv2.imread(os.path.join(dog_dir,path))\n",
    "    im = cv2.resize(im ,(128,128))\n",
    "    train.append(im)\n",
    "\n"
   ]
  },
  {
   "cell_type": "code",
   "execution_count": 15,
   "id": "185cb1a4-845a-458b-a213-749fff0927b9",
   "metadata": {},
   "outputs": [],
   "source": [
    "#labels = [0]*10000 + [1]*10000\n",
    "train = np.array(train, dtype=np.float32)  # Ensure correct data type\n",
    "train = torch.tensor(train).permute(0, 3, 1, 2)  # Convert to PyTorch format (N, C, H, W)\n",
    "\n",
    "labels = torch.tensor(labels)\n",
    "\n",
    "dataset = TensorDataset(train, labels)\n",
    "batch_size = 32\n",
    "dataloader = DataLoader(dataset, batch_size=batch_size, shuffle=True)"
   ]
  },
  {
   "cell_type": "markdown",
   "id": "828f38b2-2dd2-470e-8679-44db46b0b1bf",
   "metadata": {},
   "source": [
    "## Model "
   ]
  },
  {
   "cell_type": "code",
   "execution_count": 13,
   "id": "a931875e-8c87-488e-b375-9c69152adab7",
   "metadata": {},
   "outputs": [],
   "source": [
    "model = nn.Sequential(\n",
    "    nn.Conv2d(3,16,5),# 3*128*128 => 16*124*124\n",
    "    nn.ReLU(),\n",
    "    nn.BatchNorm2d(16),\n",
    "    nn.MaxPool2d(2,2),# 16*124*124 => 16*62*62\n",
    "\n",
    "    nn.Conv2d(16,32,3),# 16*62*62 => 32*60*60\n",
    "    nn.ReLU(),\n",
    "    nn.BatchNorm2d(32),\n",
    "    nn.MaxPool2d(2,2),# 32*60*60 => 32*30*30\n",
    "\n",
    "    nn.Conv2d(32,32,3),# 32*30*30 => 32*28*28\n",
    "    nn.ReLU(),\n",
    "    nn.BatchNorm2d(32),\n",
    "    nn.MaxPool2d(2,2),# 32*28*28 => 32*14*14\n",
    "\n",
    "    nn.Conv2d(32,32,5),# 32*14*14 => 32*10*10\n",
    "    nn.ReLU(),\n",
    "    nn.BatchNorm2d(32),\n",
    "\n",
    "    nn.Flatten(),\n",
    "\n",
    "    nn.Linear(32*10*10,128),\n",
    "    nn.ReLU(),\n",
    "    nn.BatchNorm1d(128),\n",
    "    \n",
    "    nn.Linear(128,32),\n",
    "    nn.ReLU(),\n",
    "    nn.BatchNorm1d(32),\n",
    "    \n",
    "    nn.Linear(32,2)\n",
    ")"
   ]
  },
  {
   "cell_type": "code",
   "execution_count": 14,
   "id": "1a329321-4e12-4bd0-86fe-44ee106b503b",
   "metadata": {},
   "outputs": [],
   "source": [
    "optimizer = optim.Adam(model.parameters(), lr=0.001)\n",
    "criterion = nn.CrossEntropyLoss()"
   ]
  },
  {
   "cell_type": "markdown",
   "id": "e5ea0988-c924-4bc9-910b-9f6a5daf15b7",
   "metadata": {},
   "source": [
    "## Model-Train"
   ]
  },
  {
   "cell_type": "code",
   "execution_count": 28,
   "id": "06268b42-e4a7-44f1-90ed-d8f7571fbf66",
   "metadata": {},
   "outputs": [
    {
     "name": "stdout",
     "output_type": "stream",
     "text": [
      "Epoch 1, Accuracy: 85.89%\n",
      "Epoch 2, Accuracy: 88.60%\n",
      "Epoch 3, Accuracy: 90.64%\n"
     ]
    }
   ],
   "source": [
    "epoch=3\n",
    "for i in range(epoch):\n",
    "    epoch_loss = 0\n",
    "    correct = 0\n",
    "    for batch_images , batch_labels in dataloader:\n",
    "        optimizer.zero_grad()\n",
    "        outputs = model(batch_images)\n",
    "        loss = criterion(outputs, batch_labels)\n",
    "        loss.backward()\n",
    "        optimizer.step()\n",
    "\n",
    "\n",
    "        epoch_loss += loss.item()\n",
    "        _, predicted = torch.max(outputs, 1)\n",
    "        correct += (predicted == batch_labels).sum().item()\n",
    "    \n",
    "    accuracy = 100 * correct / len(train)\n",
    "    print(f\"Epoch {i+1}, Accuracy: {accuracy:.2f}%\")"
   ]
  },
  {
   "cell_type": "markdown",
   "id": "f007128d-00ca-4ff2-b73b-a944c873f313",
   "metadata": {},
   "source": [
    "## Testing Model"
   ]
  },
  {
   "cell_type": "code",
   "execution_count": 40,
   "id": "c09f53ac-abca-4bf4-a160-d09e68f50243",
   "metadata": {},
   "outputs": [],
   "source": [
    "from functools import partial\n",
    "from sklearn.metrics import accuracy_score, precision_score, recall_score, f1_score"
   ]
  },
  {
   "cell_type": "code",
   "execution_count": 36,
   "id": "4da19b64-9c12-47ca-89e1-a48bad73ae46",
   "metadata": {},
   "outputs": [],
   "source": [
    "test_cats_dir='test\\\\cats'\n",
    "test_dogs_dir='test\\\\dogs'\n",
    "\n",
    "cat_testfiles = os.listdir(test_cats_dir)\n",
    "dog_testfiles = os.listdir(test_dogs_dir)\n",
    "\n",
    "test = []\n",
    "labels = [0]*2500 + [1]*2500"
   ]
  },
  {
   "cell_type": "code",
   "execution_count": 37,
   "id": "cc3d62bd-29f4-4015-8024-9f4e841c2d04",
   "metadata": {},
   "outputs": [
    {
     "name": "stdout",
     "output_type": "stream",
     "text": [
      "cats are into test\n",
      "dogs are also into test\n"
     ]
    }
   ],
   "source": [
    "for i,path in enumerate(cat_testfiles):\n",
    "    \n",
    "    im = cv2.imread(os.path.join(test_cats_dir,path))\n",
    "    im = cv2.resize(im ,(128,128))\n",
    "    test.append(im)\n",
    "    if i%2500 == 0:\n",
    "        print(\"cats are into test\")\n",
    "\n",
    "for i,path in enumerate(dog_testfiles):\n",
    "    im = cv2.imread(os.path.join(test_dogs_dir,path))\n",
    "    im = cv2.resize(im ,(128,128))\n",
    "    test.append(im)\n",
    "    if i%2500 == 0:\n",
    "        print(\"dogs are also into test\")"
   ]
  },
  {
   "cell_type": "code",
   "execution_count": 38,
   "id": "0dd8d395-fbdf-47cc-ba45-7c63b4db1eb6",
   "metadata": {},
   "outputs": [
    {
     "data": {
      "text/plain": [
       "(5000, 5000)"
      ]
     },
     "execution_count": 38,
     "metadata": {},
     "output_type": "execute_result"
    }
   ],
   "source": [
    "len(test),len(labels)"
   ]
  },
  {
   "cell_type": "code",
   "execution_count": 39,
   "id": "b6ec128c-6e8b-484f-a20d-c06eb45da094",
   "metadata": {},
   "outputs": [],
   "source": [
    "test = np.array(test, dtype=np.float32)  # Ensure correct data type\n",
    "test = torch.tensor(test).permute(0, 3, 1, 2)  # Convert to PyTorch format (N, C, H, W)\n",
    "\n",
    "labels = torch.tensor(labels)\n",
    "\n",
    "test_dataset = TensorDataset(test, labels)\n",
    "batch_size = 32\n",
    "test_dataloader = DataLoader(test_dataset, batch_size=batch_size, shuffle=True)"
   ]
  },
  {
   "cell_type": "markdown",
   "id": "64925f64-1b05-4c4f-8e88-0d711399f6f0",
   "metadata": {},
   "source": [
    "## main-Test"
   ]
  },
  {
   "cell_type": "code",
   "execution_count": 42,
   "id": "c80b26a9-5a95-481c-80d7-34f5a3317d9c",
   "metadata": {},
   "outputs": [
    {
     "name": "stdout",
     "output_type": "stream",
     "text": [
      "Test Accuracy: 0.8756\n",
      "Test Precision: 0.9023\n",
      "Test Recall: 0.8424\n",
      "Test F1-Score: 0.8713\n"
     ]
    }
   ],
   "source": [
    "model.eval()  \n",
    "all_preds = []\n",
    "all_labels = []\n",
    "with torch.no_grad():  \n",
    "    for inputs, labels in test_dataloader:\n",
    "        outputs = model(inputs)\n",
    "        _, predicted = torch.max(outputs.data, 1)\n",
    "        \n",
    "        all_preds.extend(predicted.numpy())\n",
    "        all_labels.extend(labels.numpy())\n",
    "\n",
    "# Calculate metrics\n",
    "accuracy = accuracy_score(all_labels, all_preds)\n",
    "precision = precision_score(all_labels, all_preds)\n",
    "recall = recall_score(all_labels, all_preds)\n",
    "f1 = f1_score(all_labels, all_preds)\n",
    "\n",
    "print(f\"Test Accuracy: {accuracy:.4f}\")\n",
    "print(f\"Test Precision: {precision:.4f}\")\n",
    "print(f\"Test Recall: {recall:.4f}\")\n",
    "print(f\"Test F1-Score: {f1:.4f}\")"
   ]
  },
  {
   "cell_type": "code",
   "execution_count": null,
   "id": "fefe6602-3e4c-4e7c-b182-108ac70928d8",
   "metadata": {},
   "outputs": [],
   "source": []
  }
 ],
 "metadata": {
  "kernelspec": {
   "display_name": "Python 3 (ipykernel)",
   "language": "python",
   "name": "python3"
  },
  "language_info": {
   "codemirror_mode": {
    "name": "ipython",
    "version": 3
   },
   "file_extension": ".py",
   "mimetype": "text/x-python",
   "name": "python",
   "nbconvert_exporter": "python",
   "pygments_lexer": "ipython3",
   "version": "3.12.3"
  }
 },
 "nbformat": 4,
 "nbformat_minor": 5
}
